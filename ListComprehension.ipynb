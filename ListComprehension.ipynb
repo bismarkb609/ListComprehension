{
 "cells": [
  {
   "cell_type": "code",
   "execution_count": null,
   "id": "3fd96d0d",
   "metadata": {},
   "outputs": [],
   "source": [
    "# iterating through a string using list comprehensions \n",
    "h_letters = [letter for letter in \"letter\"]\n",
    "print(h_letter)"
   ]
  }
 ],
 "metadata": {
  "kernelspec": {
   "display_name": "Python 3",
   "language": "python",
   "name": "python3"
  },
  "language_info": {
   "codemirror_mode": {
    "name": "ipython",
    "version": 3
   },
   "file_extension": ".py",
   "mimetype": "text/x-python",
   "name": "python",
   "nbconvert_exporter": "python",
   "pygments_lexer": "ipython3",
   "version": "3.8.8"
  }
 },
 "nbformat": 4,
 "nbformat_minor": 5
}
